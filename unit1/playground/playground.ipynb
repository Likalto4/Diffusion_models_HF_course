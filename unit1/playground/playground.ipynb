{
 "cells": [
  {
   "cell_type": "code",
   "execution_count": 1,
   "metadata": {},
   "outputs": [],
   "source": [
    "import argparse\n",
    "import inspect\n",
    "import logging\n",
    "import math\n",
    "import os\n",
    "from pathlib import Path\n",
    "from typing import Optional\n",
    "\n",
    "import torch\n",
    "import torch.nn.functional as F\n",
    "\n",
    "import datasets\n",
    "import diffusers\n",
    "from accelerate import Accelerator\n",
    "from accelerate.logging import get_logger\n",
    "from datasets import load_dataset\n",
    "from diffusers import DDPMPipeline, DDPMScheduler, UNet2DModel\n",
    "from diffusers.optimization import get_scheduler\n",
    "from diffusers.training_utils import EMAModel\n",
    "from diffusers.utils import check_min_version\n",
    "from huggingface_hub import HfFolder, Repository, create_repo, whoami\n",
    "from torchvision.transforms import (\n",
    "    CenterCrop,\n",
    "    Compose,\n",
    "    InterpolationMode,\n",
    "    Normalize,\n",
    "    RandomHorizontalFlip,\n",
    "    Resize,\n",
    "    ToTensor,\n",
    ")\n",
    "from tqdm.auto import tqdm\n",
    "import yaml"
   ]
  },
  {
   "cell_type": "code",
   "execution_count": 4,
   "metadata": {},
   "outputs": [],
   "source": [
    "# Model hyperparameters\n",
    "\n",
    "in_channels=3,  # the number of input channels, 3 for RGB images\n",
    "out_channels=3,  # the number of output channels\n",
    "layers_per_block=2,  # how many ResNet layers to use per UNet block\n",
    "block_out_channels=(128, 128, 256, 256, 512, 512),  # More channels -> more parameters\n",
    "down_block_types=(\n",
    "    \"DownBlock2D\",  # a regular ResNet downsampling block\n",
    "    \"DownBlock2D\",\n",
    "    \"DownBlock2D\",\n",
    "    \"DownBlock2D\",\n",
    "    \"AttnDownBlock2D\",  # a ResNet downsampling block with spatial self-attention\n",
    "    \"AttnDownBlock2D\",\n",
    "),\n",
    "\n",
    "# create config dictionary\n",
    "\n",
    "config = {\n",
    "    \"in_channels\": 3, # the number of input channels, 3 for RGB images\n",
    "    \"out_channels\": 3, # the number of output channels\n",
    "    \"layers_per_block\": 2, # how many ResNet layers to use per UNet block\n",
    "    \"block_out_channels\": (128, 128, 256, 256, 512, 512), # More channels -> more parameters\n",
    "    \"down_block_types\": (\n",
    "    \"DownBlock2D\",  # a regular ResNet downsampling block\n",
    "    \"DownBlock2D\",\n",
    "    \"DownBlock2D\",\n",
    "    \"DownBlock2D\",\n",
    "    \"AttnDownBlock2D\",  # a ResNet downsampling block with spatial self-attention\n",
    "    \"AttnDownBlock2D\",\n",
    "),       \n",
    "}\n",
    "\n",
    "# save config to yaml file\n",
    "\n",
    "with open('config.yaml', 'w') as file:\n",
    "    documents = yaml.dump(config, file)"
   ]
  },
  {
   "cell_type": "code",
   "execution_count": 19,
   "metadata": {},
   "outputs": [
    {
     "name": "stdout",
     "output_type": "stream",
     "text": [
      "The keys are: dict_keys(['block_out_channels', 'down_block_types', 'in_channels', 'layers_per_block', 'out_channels'])\n"
     ]
    },
    {
     "data": {
      "text/plain": [
       "('DownBlock2D',\n",
       " 'DownBlock2D',\n",
       " 'DownBlock2D',\n",
       " 'DownBlock2D',\n",
       " 'AttnDownBlock2D',\n",
       " 'AttnDownBlock2D')"
      ]
     },
     "execution_count": 19,
     "metadata": {},
     "output_type": "execute_result"
    }
   ],
   "source": [
    "#open config yaml config file\n",
    "with open('config.yaml', 'r') as file:\n",
    "    config = yaml.load(file, Loader=yaml.FullLoader)\n",
    "print(f'The keys are: {config.keys()}')\n",
    "config['down_block_types']"
   ]
  }
 ],
 "metadata": {
  "kernelspec": {
   "display_name": "diffusion_class",
   "language": "python",
   "name": "python3"
  },
  "language_info": {
   "codemirror_mode": {
    "name": "ipython",
    "version": 3
   },
   "file_extension": ".py",
   "mimetype": "text/x-python",
   "name": "python",
   "nbconvert_exporter": "python",
   "pygments_lexer": "ipython3",
   "version": "3.8.16"
  },
  "orig_nbformat": 4,
  "vscode": {
   "interpreter": {
    "hash": "8796c478b45d691a24d00c4070bda0d9dbd0f765575c551e08086ba60418d850"
   }
  }
 },
 "nbformat": 4,
 "nbformat_minor": 2
}
