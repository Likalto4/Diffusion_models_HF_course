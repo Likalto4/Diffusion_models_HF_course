{
 "cells": [
  {
   "cell_type": "code",
   "execution_count": 2,
   "metadata": {},
   "outputs": [
    {
     "name": "stdout",
     "output_type": "stream",
     "text": [
      "/home/ricardo/master_thesis/extra_materials/Diffusion_models_HF_course\n"
     ]
    }
   ],
   "source": [
    "import yaml\n",
    "from pathlib import Path\n",
    "\n",
    "current_path = Path.cwd()\n",
    "repo_path = current_path.parent.parent\n",
    "print(repo_path)"
   ]
  },
  {
   "cell_type": "code",
   "execution_count": 19,
   "metadata": {},
   "outputs": [
    {
     "data": {
      "text/plain": [
       "dict_keys(['processing', 'model', 'training', 'saving'])"
      ]
     },
     "execution_count": 19,
     "metadata": {},
     "output_type": "execute_result"
    }
   ],
   "source": [
    "#open yaml file\n",
    "with open(\"config.yaml\", 'r') as stream:\n",
    "    config = yaml.load(stream, Loader=yaml.FullLoader)\n",
    "    \n",
    "config.keys()"
   ]
  },
  {
   "cell_type": "code",
   "execution_count": 15,
   "metadata": {},
   "outputs": [],
   "source": [
    "#saving pipeline path\n",
    "saving_path = repo_path / config['saving']['save_pipeline_dir'] / config['saving']['pipeline_name']"
   ]
  },
  {
   "cell_type": "code",
   "execution_count": 8,
   "metadata": {},
   "outputs": [
    {
     "data": {
      "text/plain": [
       "'---\\nlicense: mit\\ntags:\\n- pytorch\\n- diffusers\\n- unconditional-image-generation\\n- diffusion-models-class\\n---\\n\\n# Model Card for a model trained based on the Unit 1 of the [Diffusion Models Class 🧨](https://github.com/huggingface/diffusion-models-class), not using accelarate yet.\\n\\nThis model is a diffusion model for unconditional image generation of cute but small 🦋.\\nThe model was trained with 1000 images using the [DDPM](https://arxiv.org/abs/2006.11239) architecture. Images generated are of 64x64 pixel size.\\nThe model was trained for 50 epochs with a batch size of 64, using around 11 GB of GPU memory. \\n\\n## Usage\\n\\n```python\\nfrom diffusers import DDPMPipeline\\n\\npipeline = DDPMPipeline.from_pretrained({hub_model_id})\\nimage = pipeline().images[0]\\nimage\\n```'"
      ]
     },
     "execution_count": 8,
     "metadata": {},
     "output_type": "execute_result"
    }
   ],
   "source": [
    "from huggingface_hub import ModelCard\n",
    "\n",
    "# open yaml file with model card info\n",
    "with open('model_card.yaml', 'r') as f:\n",
    "    content = f.read()\n",
    "card = ModelCard(content)"
   ]
  }
 ],
 "metadata": {
  "kernelspec": {
   "display_name": "diffusion_class",
   "language": "python",
   "name": "python3"
  },
  "language_info": {
   "codemirror_mode": {
    "name": "ipython",
    "version": 3
   },
   "file_extension": ".py",
   "mimetype": "text/x-python",
   "name": "python",
   "nbconvert_exporter": "python",
   "pygments_lexer": "ipython3",
   "version": "3.8.16"
  },
  "orig_nbformat": 4,
  "vscode": {
   "interpreter": {
    "hash": "8796c478b45d691a24d00c4070bda0d9dbd0f765575c551e08086ba60418d850"
   }
  }
 },
 "nbformat": 4,
 "nbformat_minor": 2
}
